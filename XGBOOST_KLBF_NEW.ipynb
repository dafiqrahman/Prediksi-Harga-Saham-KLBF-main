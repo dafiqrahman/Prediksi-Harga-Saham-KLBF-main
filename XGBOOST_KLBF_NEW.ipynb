{
  "cells": [
    {
      "cell_type": "markdown",
      "id": "57fab3da",
      "metadata": {
        "id": "57fab3da"
      },
      "source": [
        "### **1. Mengimpor Library**"
      ]
    },
    {
      "cell_type": "code",
      "execution_count": 57,
      "id": "Sn9iM4UetvzI",
      "metadata": {
        "colab": {
          "base_uri": "https://localhost:8080/"
        },
        "id": "Sn9iM4UetvzI",
        "outputId": "b49167d3-6a48-4770-a86a-e2060b22e2a2"
      },
      "outputs": [
        {
          "name": "stdout",
          "output_type": "stream",
          "text": [
            "Collecting pyswarm\n",
            "  Downloading pyswarm-0.6.tar.gz (4.3 kB)\n",
            "  Preparing metadata (setup.py) ... \u001b[?25l\u001b[?25hdone\n",
            "Requirement already satisfied: numpy in /usr/local/lib/python3.10/dist-packages (from pyswarm) (1.26.4)\n",
            "Building wheels for collected packages: pyswarm\n",
            "  Building wheel for pyswarm (setup.py) ... \u001b[?25l\u001b[?25hdone\n",
            "  Created wheel for pyswarm: filename=pyswarm-0.6-py3-none-any.whl size=4464 sha256=28f65c3c1b431a68fc38037b1e42298084907afe0a0f11a065bc228204186f50\n",
            "  Stored in directory: /root/.cache/pip/wheels/71/67/40/62fa158f497f942277cbab8199b05cb61c571ab324e67ad0d6\n",
            "Successfully built pyswarm\n",
            "Installing collected packages: pyswarm\n",
            "Successfully installed pyswarm-0.6\n"
          ]
        }
      ],
      "source": [
        "!pip install pyswarm"
      ]
    },
    {
      "cell_type": "code",
      "execution_count": 2,
      "id": "s2xWBighnZBE",
      "metadata": {
        "id": "s2xWBighnZBE"
      },
      "outputs": [],
      "source": [
        "#---MULAI---\n",
        "import yfinance as yf\n",
        "import pandas as pd\n",
        "import numpy as np\n",
        "from sklearn.model_selection import train_test_split\n",
        "from sklearn.metrics import mean_squared_error, mean_absolute_error, r2_score\n",
        "from sklearn.preprocessing import MinMaxScaler\n",
        "import xgboost as xgb\n",
        "import joblib\n",
        "import matplotlib.pyplot as plt\n",
        "import seaborn as sns\n",
        "import pickle\n",
        "import time\n",
        "from sklearn.metrics import mean_squared_error, r2_score\n",
        "from sklearn.metrics import mean_absolute_error\n",
        "from sklearn.metrics import mean_absolute_percentage_error\n",
        "from xgboost import XGBRegressor\n",
        "from pyswarm import pso\n",
        "#---SELESAI---"
      ]
    },
    {
      "cell_type": "markdown",
      "id": "ZdW26fUPnmm1",
      "metadata": {
        "id": "ZdW26fUPnmm1"
      },
      "source": [
        "### **2. Mengambil Data dari Yahoo Finance**"
      ]
    },
    {
      "cell_type": "code",
      "execution_count": 9,
      "id": "ypQybzV5nyDg",
      "metadata": {
        "colab": {
          "base_uri": "https://localhost:8080/"
        },
        "id": "ypQybzV5nyDg",
        "outputId": "448ac7cd-3dea-4f69-8c67-73fd0f2243cb"
      },
      "outputs": [
        {
          "name": "stderr",
          "output_type": "stream",
          "text": [
            "[*********************100%***********************]  1 of 1 completed\n"
          ]
        },
        {
          "data": {
            "text/html": [
              "<div>\n",
              "<style scoped>\n",
              "    .dataframe tbody tr th:only-of-type {\n",
              "        vertical-align: middle;\n",
              "    }\n",
              "\n",
              "    .dataframe tbody tr th {\n",
              "        vertical-align: top;\n",
              "    }\n",
              "\n",
              "    .dataframe thead th {\n",
              "        text-align: right;\n",
              "    }\n",
              "</style>\n",
              "<table border=\"1\" class=\"dataframe\">\n",
              "  <thead>\n",
              "    <tr style=\"text-align: right;\">\n",
              "      <th></th>\n",
              "      <th>Date</th>\n",
              "      <th>Close</th>\n",
              "      <th>High</th>\n",
              "      <th>Low</th>\n",
              "      <th>Open</th>\n",
              "      <th>Volume</th>\n",
              "    </tr>\n",
              "  </thead>\n",
              "  <tbody>\n",
              "    <tr>\n",
              "      <th>0</th>\n",
              "      <td>2019-01-01</td>\n",
              "      <td>1353.745850</td>\n",
              "      <td>1353.745850</td>\n",
              "      <td>1353.745850</td>\n",
              "      <td>1353.745850</td>\n",
              "      <td>0</td>\n",
              "    </tr>\n",
              "    <tr>\n",
              "      <th>1</th>\n",
              "      <td>2019-01-02</td>\n",
              "      <td>1358.199097</td>\n",
              "      <td>1362.652208</td>\n",
              "      <td>1335.933538</td>\n",
              "      <td>1358.199097</td>\n",
              "      <td>5035800</td>\n",
              "    </tr>\n",
              "    <tr>\n",
              "      <th>2</th>\n",
              "      <td>2019-01-03</td>\n",
              "      <td>1371.558350</td>\n",
              "      <td>1376.011461</td>\n",
              "      <td>1340.386569</td>\n",
              "      <td>1367.105238</td>\n",
              "      <td>15603900</td>\n",
              "    </tr>\n",
              "    <tr>\n",
              "      <th>3</th>\n",
              "      <td>2019-01-04</td>\n",
              "      <td>1398.277100</td>\n",
              "      <td>1402.730211</td>\n",
              "      <td>1353.745982</td>\n",
              "      <td>1367.105317</td>\n",
              "      <td>19765600</td>\n",
              "    </tr>\n",
              "    <tr>\n",
              "      <th>4</th>\n",
              "      <td>2019-01-07</td>\n",
              "      <td>1420.542480</td>\n",
              "      <td>1433.901814</td>\n",
              "      <td>1407.183147</td>\n",
              "      <td>1407.183147</td>\n",
              "      <td>28281300</td>\n",
              "    </tr>\n",
              "  </tbody>\n",
              "</table>\n",
              "</div>"
            ],
            "text/plain": [
              "         Date        Close         High          Low         Open    Volume\n",
              "0  2019-01-01  1353.745850  1353.745850  1353.745850  1353.745850         0\n",
              "1  2019-01-02  1358.199097  1362.652208  1335.933538  1358.199097   5035800\n",
              "2  2019-01-03  1371.558350  1376.011461  1340.386569  1367.105238  15603900\n",
              "3  2019-01-04  1398.277100  1402.730211  1353.745982  1367.105317  19765600\n",
              "4  2019-01-07  1420.542480  1433.901814  1407.183147  1407.183147  28281300"
            ]
          },
          "execution_count": 9,
          "metadata": {},
          "output_type": "execute_result"
        }
      ],
      "source": [
        "#---MULAI---\n",
        "# Ticker saham\n",
        "ticker = \"KLBF.JK\"\n",
        "\n",
        "# Rentang waktu\n",
        "start_date = \"2019-01-01\"\n",
        "end_date = \"2024-12-31\"\n",
        "\n",
        "# Ambil data historis menggunakan yfinance\n",
        "data = yf.download(ticker, start=start_date, end=end_date)\n",
        "\n",
        "data = pd.read_csv('KLBF_JK_Historical_fix.csv')\n",
        "data.head()\n",
        "#---SELESAI---"
      ]
    },
    {
      "cell_type": "markdown",
      "id": "EVbiVnbEn5Hw",
      "metadata": {
        "id": "EVbiVnbEn5Hw"
      },
      "source": [
        "### **3. Persiapan Dataset**"
      ]
    },
    {
      "cell_type": "code",
      "execution_count": 10,
      "id": "_zG1p5wsn2tl",
      "metadata": {
        "id": "_zG1p5wsn2tl"
      },
      "outputs": [],
      "source": [
        "#---MULAI---\n",
        "# Tambahkan target Next_Day_Close\n",
        "data['Next_Day_Close'] = data['Close'].shift(-1)\n",
        "data.dropna(inplace=True)\n",
        "\n",
        "# Pilih fitur dan target\n",
        "features = ['Open','High','Low','Close']\n",
        "target = 'Next_Day_Close'\n",
        "\n",
        "X = data[features]\n",
        "y = data[target]\n",
        "#---SELESAI---"
      ]
    },
    {
      "cell_type": "code",
      "execution_count": 11,
      "id": "0b91c139",
      "metadata": {},
      "outputs": [
        {
          "data": {
            "text/html": [
              "<div>\n",
              "<style scoped>\n",
              "    .dataframe tbody tr th:only-of-type {\n",
              "        vertical-align: middle;\n",
              "    }\n",
              "\n",
              "    .dataframe tbody tr th {\n",
              "        vertical-align: top;\n",
              "    }\n",
              "\n",
              "    .dataframe thead th {\n",
              "        text-align: right;\n",
              "    }\n",
              "</style>\n",
              "<table border=\"1\" class=\"dataframe\">\n",
              "  <thead>\n",
              "    <tr style=\"text-align: right;\">\n",
              "      <th></th>\n",
              "      <th>Open</th>\n",
              "      <th>High</th>\n",
              "      <th>Low</th>\n",
              "      <th>Close</th>\n",
              "    </tr>\n",
              "  </thead>\n",
              "  <tbody>\n",
              "    <tr>\n",
              "      <th>0</th>\n",
              "      <td>1353.745850</td>\n",
              "      <td>1353.745850</td>\n",
              "      <td>1353.745850</td>\n",
              "      <td>1353.745850</td>\n",
              "    </tr>\n",
              "    <tr>\n",
              "      <th>1</th>\n",
              "      <td>1358.199097</td>\n",
              "      <td>1362.652208</td>\n",
              "      <td>1335.933538</td>\n",
              "      <td>1358.199097</td>\n",
              "    </tr>\n",
              "    <tr>\n",
              "      <th>2</th>\n",
              "      <td>1367.105238</td>\n",
              "      <td>1376.011461</td>\n",
              "      <td>1340.386569</td>\n",
              "      <td>1371.558350</td>\n",
              "    </tr>\n",
              "    <tr>\n",
              "      <th>3</th>\n",
              "      <td>1367.105317</td>\n",
              "      <td>1402.730211</td>\n",
              "      <td>1353.745982</td>\n",
              "      <td>1398.277100</td>\n",
              "    </tr>\n",
              "    <tr>\n",
              "      <th>4</th>\n",
              "      <td>1407.183147</td>\n",
              "      <td>1433.901814</td>\n",
              "      <td>1407.183147</td>\n",
              "      <td>1420.542480</td>\n",
              "    </tr>\n",
              "    <tr>\n",
              "      <th>...</th>\n",
              "      <td>...</td>\n",
              "      <td>...</td>\n",
              "      <td>...</td>\n",
              "      <td>...</td>\n",
              "    </tr>\n",
              "    <tr>\n",
              "      <th>1462</th>\n",
              "      <td>1420.000000</td>\n",
              "      <td>1430.000000</td>\n",
              "      <td>1355.000000</td>\n",
              "      <td>1380.000000</td>\n",
              "    </tr>\n",
              "    <tr>\n",
              "      <th>1463</th>\n",
              "      <td>1375.000000</td>\n",
              "      <td>1375.000000</td>\n",
              "      <td>1290.000000</td>\n",
              "      <td>1320.000000</td>\n",
              "    </tr>\n",
              "    <tr>\n",
              "      <th>1464</th>\n",
              "      <td>1310.000000</td>\n",
              "      <td>1325.000000</td>\n",
              "      <td>1245.000000</td>\n",
              "      <td>1275.000000</td>\n",
              "    </tr>\n",
              "    <tr>\n",
              "      <th>1465</th>\n",
              "      <td>1280.000000</td>\n",
              "      <td>1330.000000</td>\n",
              "      <td>1265.000000</td>\n",
              "      <td>1330.000000</td>\n",
              "    </tr>\n",
              "    <tr>\n",
              "      <th>1466</th>\n",
              "      <td>1330.000000</td>\n",
              "      <td>1405.000000</td>\n",
              "      <td>1305.000000</td>\n",
              "      <td>1400.000000</td>\n",
              "    </tr>\n",
              "  </tbody>\n",
              "</table>\n",
              "<p>1467 rows × 4 columns</p>\n",
              "</div>"
            ],
            "text/plain": [
              "             Open         High          Low        Close\n",
              "0     1353.745850  1353.745850  1353.745850  1353.745850\n",
              "1     1358.199097  1362.652208  1335.933538  1358.199097\n",
              "2     1367.105238  1376.011461  1340.386569  1371.558350\n",
              "3     1367.105317  1402.730211  1353.745982  1398.277100\n",
              "4     1407.183147  1433.901814  1407.183147  1420.542480\n",
              "...           ...          ...          ...          ...\n",
              "1462  1420.000000  1430.000000  1355.000000  1380.000000\n",
              "1463  1375.000000  1375.000000  1290.000000  1320.000000\n",
              "1464  1310.000000  1325.000000  1245.000000  1275.000000\n",
              "1465  1280.000000  1330.000000  1265.000000  1330.000000\n",
              "1466  1330.000000  1405.000000  1305.000000  1400.000000\n",
              "\n",
              "[1467 rows x 4 columns]"
            ]
          },
          "execution_count": 11,
          "metadata": {},
          "output_type": "execute_result"
        }
      ],
      "source": [
        "X"
      ]
    },
    {
      "cell_type": "markdown",
      "id": "4mhBkF6roApe",
      "metadata": {
        "id": "4mhBkF6roApe"
      },
      "source": [
        "### **4. Normalisasi Data**"
      ]
    },
    {
      "cell_type": "code",
      "execution_count": 12,
      "id": "vLRYLveXn9lq",
      "metadata": {
        "id": "vLRYLveXn9lq"
      },
      "outputs": [],
      "source": [
        "#---MULAI---\n",
        "# Normalisasi fitur\n",
        "scaler = MinMaxScaler()\n",
        "X_scaled = scaler.fit_transform(X)\n",
        "#---SELESAI---"
      ]
    },
    {
      "cell_type": "markdown",
      "id": "9nIB_0GOoJNf",
      "metadata": {
        "id": "9nIB_0GOoJNf"
      },
      "source": [
        "### **5. Membagi Data Latih dan Uji**"
      ]
    },
    {
      "cell_type": "code",
      "execution_count": 13,
      "id": "KbvTXH4ioHGl",
      "metadata": {
        "id": "KbvTXH4ioHGl"
      },
      "outputs": [],
      "source": [
        "#---MULAI---\n",
        "# Bagi data menjadi data latih dan uji\n",
        "X_train, X_test, y_train, y_test = train_test_split(X_scaled, y, test_size=0.2, random_state=42)\n",
        "\n",
        "# Data Training dan Testing untuk Skenario 2 (XGBoost-PSO)\n",
        "x_train2 = X_train.copy()  # Salin data latih untuk skenario 2\n",
        "y_train2 = y_train.copy()\n",
        "x_test2 = X_test.copy()    # Salin data uji untuk skenario 2\n",
        "y_test2 = y_test.copy()\n",
        "#---SELESAI---"
      ]
    },
    {
      "cell_type": "markdown",
      "id": "gZIAA1xzoOrQ",
      "metadata": {
        "id": "gZIAA1xzoOrQ"
      },
      "source": [
        "### **6. Melatih Model XGBoost**\n",
        "\n",
        "\n"
      ]
    },
    {
      "cell_type": "code",
      "execution_count": 14,
      "id": "CBBd_ZC4otL-",
      "metadata": {
        "colab": {
          "base_uri": "https://localhost:8080/"
        },
        "id": "CBBd_ZC4otL-",
        "outputId": "41f63859-6f2e-46d6-c97c-be9a49e5c343"
      },
      "outputs": [
        {
          "data": {
            "text/plain": [
              "['xgboost_model_klbf.pkl']"
            ]
          },
          "execution_count": 14,
          "metadata": {},
          "output_type": "execute_result"
        }
      ],
      "source": [
        "#---MULAI---\n",
        "# Train model XGBoost\n",
        "model = xgb.XGBRegressor(random_state=42)\n",
        "model.fit(X_train, y_train)\n",
        "\n",
        "# Simpan model ke file\n",
        "joblib.dump(model, \"xgboost_model_klbf.pkl\")\n",
        "#---SELESAI---"
      ]
    },
    {
      "cell_type": "markdown",
      "id": "E-gSNXhnswyP",
      "metadata": {
        "id": "E-gSNXhnswyP"
      },
      "source": [
        "### **7. Eksperimen Parameter XGBoost**"
      ]
    },
    {
      "cell_type": "markdown",
      "id": "NzZQwjOPs6Vw",
      "metadata": {
        "id": "NzZQwjOPs6Vw"
      },
      "source": [
        "#### **7.1 XGBoost tanpa optimasi PSO**\n",
        "\n"
      ]
    },
    {
      "cell_type": "code",
      "execution_count": 15,
      "id": "r8AvMG9NtB_R",
      "metadata": {
        "colab": {
          "base_uri": "https://localhost:8080/"
        },
        "id": "r8AvMG9NtB_R",
        "outputId": "aee5c502-0039-402b-dc0f-fa1eaa6d2d95"
      },
      "outputs": [
        {
          "data": {
            "text/plain": [
              "['xgboost_model_default.pkl']"
            ]
          },
          "execution_count": 15,
          "metadata": {},
          "output_type": "execute_result"
        }
      ],
      "source": [
        "# --- MULAI ---\n",
        "# Training Model XGBoost dengan Parameter default\n",
        "model_default = XGBRegressor(\n",
        "    max_depth=6,\n",
        "    gamma=0,\n",
        "    reg_lambda=1,\n",
        "    learning_rate=0.3,\n",
        "    min_child_weight=1,\n",
        "    subsample=1,\n",
        "    colsample_bytree=1\n",
        ")\n",
        "\n",
        "model_default.fit(X_train, y_train)\n",
        "\n",
        "# Simpan model default ke file\n",
        "joblib.dump(model_default, \"xgboost_model_default.pkl\")\n",
        "# --- SELESAI ---"
      ]
    },
    {
      "cell_type": "markdown",
      "id": "0gWpExI2uO4f",
      "metadata": {
        "id": "0gWpExI2uO4f"
      },
      "source": [
        "#### **7.2 XGBoost dengan optimasi parameter PSO**"
      ]
    },
    {
      "cell_type": "code",
      "execution_count": 16,
      "id": "86A4c18DuTYx",
      "metadata": {
        "colab": {
          "base_uri": "https://localhost:8080/"
        },
        "id": "86A4c18DuTYx",
        "outputId": "64494252-3259-4fa2-91d8-2475ce48bf18"
      },
      "outputs": [
        {
          "name": "stdout",
          "output_type": "stream",
          "text": [
            "No constraints given.\n",
            "New best for swarm at iteration 1: [3.         0.01       5.97025025 0.09475681 3.77612618 0.5\n",
            " 1.        ] 919.2939838792776\n",
            "New best for swarm at iteration 1: [3.         0.05967629 1.84820759 0.08139179 4.46920053 0.53690756\n",
            " 0.98143576] 906.4784018529241\n",
            "Best after iteration 1: [3.         0.05967629 1.84820759 0.08139179 4.46920053 0.53690756\n",
            " 0.98143576] 906.4784018529241\n",
            "New best for swarm at iteration 2: [3.         0.01       0.01       0.05037117 3.46777662 0.5\n",
            " 1.        ] 876.0461883739171\n",
            "Best after iteration 2: [3.         0.01       0.01       0.05037117 3.46777662 0.5\n",
            " 1.        ] 876.0461883739171\n",
            "New best for swarm at iteration 3: [3.         0.27161433 0.01       0.05027049 4.11295255 0.5\n",
            " 1.        ] 873.8692262017734\n",
            "Best after iteration 3: [3.         0.27161433 0.01       0.05027049 4.11295255 0.5\n",
            " 1.        ] 873.8692262017734\n",
            "Best after iteration 4: [3.         0.27161433 0.01       0.05027049 4.11295255 0.5\n",
            " 1.        ] 873.8692262017734\n",
            "New best for swarm at iteration 5: [3.         0.35458093 0.01       0.07076262 4.8673931  0.5\n",
            " 1.        ] 869.6205378685174\n",
            "Best after iteration 5: [3.         0.35458093 0.01       0.07076262 4.8673931  0.5\n",
            " 1.        ] 869.6205378685174\n",
            "Best after iteration 6: [3.         0.35458093 0.01       0.07076262 4.8673931  0.5\n",
            " 1.        ] 869.6205378685174\n",
            "New best for swarm at iteration 7: [3.         0.31961315 0.01       0.07075872 4.00411466 0.5\n",
            " 1.        ] 869.6185055527787\n",
            "New best for swarm at iteration 7: [3.         0.05539644 0.01       0.05636727 3.39890422 0.5\n",
            " 1.        ] 868.550438628057\n",
            "Best after iteration 7: [3.         0.05539644 0.01       0.05636727 3.39890422 0.5\n",
            " 1.        ] 868.550438628057\n",
            "New best for swarm at iteration 8: [3.         0.01       0.01       0.05521559 3.71783387 0.5\n",
            " 1.        ] 868.3837771945108\n",
            "Best after iteration 8: [3.         0.01       0.01       0.05521559 3.71783387 0.5\n",
            " 1.        ] 868.3837771945108\n",
            "New best for swarm at iteration 9: [3.         0.01065087 0.01       0.07321477 3.44060325 0.5\n",
            " 1.        ] 864.3416658988997\n",
            "Best after iteration 9: [3.         0.01065087 0.01       0.07321477 3.44060325 0.5\n",
            " 1.        ] 864.3416658988997\n",
            "Best after iteration 10: [3.         0.01065087 0.01       0.07321477 3.44060325 0.5\n",
            " 1.        ] 864.3416658988997\n",
            "Best after iteration 11: [3.         0.01065087 0.01       0.07321477 3.44060325 0.5\n",
            " 1.        ] 864.3416658988997\n",
            "New best for swarm at iteration 12: [3.         0.01       0.01       0.07352971 3.06687126 0.5\n",
            " 1.        ] 863.6755793134931\n",
            "Best after iteration 12: [3.         0.01       0.01       0.07352971 3.06687126 0.5\n",
            " 1.        ] 863.6755793134931\n",
            "Best after iteration 13: [3.         0.01       0.01       0.07352971 3.06687126 0.5\n",
            " 1.        ] 863.6755793134931\n",
            "Best after iteration 14: [3.         0.01       0.01       0.07352971 3.06687126 0.5\n",
            " 1.        ] 863.6755793134931\n",
            "Best after iteration 15: [3.         0.01       0.01       0.07352971 3.06687126 0.5\n",
            " 1.        ] 863.6755793134931\n",
            "New best for swarm at iteration 16: [3.         0.01       0.01       0.07352683 3.39615839 0.5\n",
            " 1.        ] 863.6742116958159\n",
            "Best after iteration 16: [3.         0.01       0.01       0.07352683 3.39615839 0.5\n",
            " 1.        ] 863.6742116958159\n",
            "Best after iteration 17: [3.         0.01       0.01       0.07352683 3.39615839 0.5\n",
            " 1.        ] 863.6742116958159\n",
            "Best after iteration 18: [3.         0.01       0.01       0.07352683 3.39615839 0.5\n",
            " 1.        ] 863.6742116958159\n",
            "New best for swarm at iteration 19: [3.         0.01       0.01       0.07352332 3.23126477 0.5\n",
            " 1.        ] 863.6720212251963\n",
            "Best after iteration 19: [3.         0.01       0.01       0.07352332 3.23126477 0.5\n",
            " 1.        ] 863.6720212251963\n",
            "Best after iteration 20: [3.         0.01       0.01       0.07352332 3.23126477 0.5\n",
            " 1.        ] 863.6720212251963\n",
            "Best after iteration 21: [3.         0.01       0.01       0.07352332 3.23126477 0.5\n",
            " 1.        ] 863.6720212251963\n",
            "New best for swarm at iteration 22: [3.         0.01       0.01       0.07351722 3.22553358 0.5\n",
            " 1.        ] 863.6694095568847\n",
            "Best after iteration 22: [3.         0.01       0.01       0.07351722 3.22553358 0.5\n",
            " 1.        ] 863.6694095568847\n",
            "New best for swarm at iteration 23: [3.         0.01       0.01       0.07351757 3.36089546 0.5\n",
            " 1.        ] 863.6692288033793\n",
            "Best after iteration 23: [3.         0.01       0.01       0.07351757 3.36089546 0.5\n",
            " 1.        ] 863.6692288033793\n",
            "Best after iteration 24: [3.         0.01       0.01       0.07351757 3.36089546 0.5\n",
            " 1.        ] 863.6692288033793\n",
            "Best after iteration 25: [3.         0.01       0.01       0.07351757 3.36089546 0.5\n",
            " 1.        ] 863.6692288033793\n",
            "New best for swarm at iteration 26: [3.         0.01       0.01       0.07351666 3.27110996 0.5\n",
            " 1.        ] 863.6687392054419\n",
            "Best after iteration 26: [3.         0.01       0.01       0.07351666 3.27110996 0.5\n",
            " 1.        ] 863.6687392054419\n",
            "New best for swarm at iteration 27: [3.         0.01       0.01       0.07351095 3.29382002 0.5\n",
            " 1.        ] 863.6660385198994\n",
            "Best after iteration 27: [3.         0.01       0.01       0.07351095 3.29382002 0.5\n",
            " 1.        ] 863.6660385198994\n",
            "Best after iteration 28: [3.         0.01       0.01       0.07351095 3.29382002 0.5\n",
            " 1.        ] 863.6660385198994\n",
            "Best after iteration 29: [3.         0.01       0.01       0.07351095 3.29382002 0.5\n",
            " 1.        ] 863.6660385198994\n",
            "Best after iteration 30: [3.         0.01       0.01       0.07351095 3.29382002 0.5\n",
            " 1.        ] 863.6660385198994\n",
            "Best after iteration 31: [3.         0.01       0.01       0.07351095 3.29382002 0.5\n",
            " 1.        ] 863.6660385198994\n",
            "New best for swarm at iteration 32: [3.         0.01       0.01600178 0.04979024 3.50585578 0.50139382\n",
            " 1.        ] 863.5000694582658\n",
            "New best for swarm at iteration 32: [3.         0.01068927 0.01534957 0.05574982 3.53841047 0.50153949\n",
            " 1.        ] 863.0891930879837\n",
            "Best after iteration 32: [3.         0.01068927 0.01534957 0.05574982 3.53841047 0.50153949\n",
            " 1.        ] 863.0891930879837\n",
            "New best for swarm at iteration 33: [3.         0.01       0.01614334 0.04949756 3.84574506 0.50170316\n",
            " 1.        ] 862.468585035238\n",
            "New best for swarm at iteration 33: [3.         0.0270986  0.01096449 0.05501556 3.89426192 0.501346\n",
            " 1.        ] 858.913736308792\n",
            "New best for swarm at iteration 33: [3.         0.02890576 0.01395505 0.05670481 4.62789446 0.50207024\n",
            " 1.        ] 856.8038615191192\n",
            "Best after iteration 33: [3.         0.02890576 0.01395505 0.05670481 4.62789446 0.50207024\n",
            " 1.        ] 856.8038615191192\n",
            "Best after iteration 34: [3.         0.02890576 0.01395505 0.05670481 4.62789446 0.50207024\n",
            " 1.        ] 856.8038615191192\n",
            "Best after iteration 35: [3.         0.02890576 0.01395505 0.05670481 4.62789446 0.50207024\n",
            " 1.        ] 856.8038615191192\n",
            "Best after iteration 36: [3.         0.02890576 0.01395505 0.05670481 4.62789446 0.50207024\n",
            " 1.        ] 856.8038615191192\n",
            "New best for swarm at iteration 37: [3.         0.03541602 0.01465268 0.05603344 4.50234522 0.50308204\n",
            " 1.        ] 854.529236000475\n",
            "Best after iteration 37: [3.         0.03541602 0.01465268 0.05603344 4.50234522 0.50308204\n",
            " 1.        ] 854.529236000475\n",
            "Best after iteration 38: [3.         0.03541602 0.01465268 0.05603344 4.50234522 0.50308204\n",
            " 1.        ] 854.529236000475\n",
            "Best after iteration 39: [3.         0.03541602 0.01465268 0.05603344 4.50234522 0.50308204\n",
            " 1.        ] 854.529236000475\n",
            "New best for swarm at iteration 40: [3.         0.04576492 0.01453462 0.05548527 4.3943417  0.50307717\n",
            " 1.        ] 852.6878452925837\n",
            "Best after iteration 40: [3.         0.04576492 0.01453462 0.05548527 4.3943417  0.50307717\n",
            " 1.        ] 852.6878452925837\n",
            "Best after iteration 41: [3.         0.04576492 0.01453462 0.05548527 4.3943417  0.50307717\n",
            " 1.        ] 852.6878452925837\n",
            "New best for swarm at iteration 42: [3.         0.03108414 0.01352476 0.05526836 4.3799932  0.50329929\n",
            " 1.        ] 851.7518094471296\n",
            "Best after iteration 42: [3.         0.03108414 0.01352476 0.05526836 4.3799932  0.50329929\n",
            " 1.        ] 851.7518094471296\n",
            "New best for swarm at iteration 43: [3.         0.02827071 0.01372507 0.05535071 4.40508707 0.50324511\n",
            " 1.        ] 848.425294727366\n",
            "Best after iteration 43: [3.         0.02827071 0.01372507 0.05535071 4.40508707 0.50324511\n",
            " 1.        ] 848.425294727366\n",
            "New best for swarm at iteration 44: [3.         0.02622915 0.01410146 0.05526951 4.57124033 0.50342829\n",
            " 1.        ] 847.4297091754117\n",
            "Best after iteration 44: [3.         0.02622915 0.01410146 0.05526951 4.57124033 0.50342829\n",
            " 1.        ] 847.4297091754117\n",
            "Best after iteration 45: [3.         0.02622915 0.01410146 0.05526951 4.57124033 0.50342829\n",
            " 1.        ] 847.4297091754117\n",
            "New best for swarm at iteration 46: [3.         0.01985791 0.01427677 0.05542295 4.72890315 0.50327768\n",
            " 1.        ] 846.826009516028\n",
            "Best after iteration 46: [3.         0.01985791 0.01427677 0.05542295 4.72890315 0.50327768\n",
            " 1.        ] 846.826009516028\n",
            "Best after iteration 47: [3.         0.01985791 0.01427677 0.05542295 4.72890315 0.50327768\n",
            " 1.        ] 846.826009516028\n",
            "New best for swarm at iteration 48: [3.         0.01       0.01358213 0.05535497 4.69838491 0.50337277\n",
            " 1.        ] 845.8066027794339\n",
            "Best after iteration 48: [3.         0.01       0.01358213 0.05535497 4.69838491 0.50337277\n",
            " 1.        ] 845.8066027794339\n",
            "Best after iteration 49: [3.         0.01       0.01358213 0.05535497 4.69838491 0.50337277\n",
            " 1.        ] 845.8066027794339\n",
            "Best after iteration 50: [3.         0.01       0.01358213 0.05535497 4.69838491 0.50337277\n",
            " 1.        ] 845.8066027794339\n",
            "New best for swarm at iteration 51: [3.         0.01       0.01365107 0.05536767 4.69087327 0.50334012\n",
            " 1.        ] 845.3004822899545\n",
            "Best after iteration 51: [3.         0.01       0.01365107 0.05536767 4.69087327 0.50334012\n",
            " 1.        ] 845.3004822899545\n",
            "Best after iteration 52: [3.         0.01       0.01365107 0.05536767 4.69087327 0.50334012\n",
            " 1.        ] 845.3004822899545\n",
            "Best after iteration 53: [3.         0.01       0.01365107 0.05536767 4.69087327 0.50334012\n",
            " 1.        ] 845.3004822899545\n",
            "Best after iteration 54: [3.         0.01       0.01365107 0.05536767 4.69087327 0.50334012\n",
            " 1.        ] 845.3004822899545\n",
            "Best after iteration 55: [3.         0.01       0.01365107 0.05536767 4.69087327 0.50334012\n",
            " 1.        ] 845.3004822899545\n",
            "New best for swarm at iteration 56: [3.         0.01       0.01367224 0.05537849 4.6901464  0.50332475\n",
            " 1.        ] 845.2984984917125\n",
            "New best for swarm at iteration 56: [3.         0.01       0.0137672  0.05537633 4.67356547 0.50332831\n",
            " 1.        ] 845.2982439848337\n",
            "Best after iteration 56: [3.         0.01       0.0137672  0.05537633 4.67356547 0.50332831\n",
            " 1.        ] 845.2982439848337\n",
            "Best after iteration 57: [3.         0.01       0.0137672  0.05537633 4.67356547 0.50332831\n",
            " 1.        ] 845.2982439848337\n",
            "Best after iteration 58: [3.         0.01       0.0137672  0.05537633 4.67356547 0.50332831\n",
            " 1.        ] 845.2982439848337\n",
            "Best after iteration 59: [3.         0.01       0.0137672  0.05537633 4.67356547 0.50332831\n",
            " 1.        ] 845.2982439848337\n",
            "New best for swarm at iteration 60: [3.         0.01       0.0137009  0.05538101 4.6718912  0.50332788\n",
            " 1.        ] 845.2965204017175\n",
            "New best for swarm at iteration 60: [3.         0.01       0.01146923 0.05538571 4.67308898 0.50332254\n",
            " 1.        ] 845.290317786072\n",
            "New best for swarm at iteration 60: [3.         0.01       0.01062901 0.0553728  4.66310232 0.50329128\n",
            " 1.        ] 843.9159869946491\n",
            "Best after iteration 60: [3.         0.01       0.01062901 0.0553728  4.66310232 0.50329128\n",
            " 1.        ] 843.9159869946491\n",
            "New best for swarm at iteration 61: [3.         0.01       0.01031673 0.05537316 4.66541013 0.50333243\n",
            " 1.        ] 843.9157325057758\n",
            "New best for swarm at iteration 61: [3.         0.01       0.01       0.05537462 4.65375935 0.50333735\n",
            " 1.        ] 843.9136651582688\n",
            "Best after iteration 61: [3.         0.01       0.01       0.05537462 4.65375935 0.50333735\n",
            " 1.        ] 843.9136651582688\n",
            "New best for swarm at iteration 62: [3.         0.01       0.01001472 0.05537849 4.66946153 0.50333455\n",
            " 1.        ] 843.912995483169\n",
            "Best after iteration 62: [3.         0.01       0.01001472 0.05537849 4.66946153 0.50333455\n",
            " 1.        ] 843.912995483169\n",
            "Best after iteration 63: [3.         0.01       0.01001472 0.05537849 4.66946153 0.50333455\n",
            " 1.        ] 843.912995483169\n",
            "Best after iteration 64: [3.         0.01       0.01001472 0.05537849 4.66946153 0.50333455\n",
            " 1.        ] 843.912995483169\n",
            "New best for swarm at iteration 65: [3.         0.01       0.01       0.05531818 4.64180426 0.50337409\n",
            " 1.        ] 843.6881693310429\n",
            "New best for swarm at iteration 65: [3.         0.01       0.01       0.05531389 4.66246613 0.50337835\n",
            " 1.        ] 843.6771237058504\n",
            "Best after iteration 65: [3.         0.01       0.01       0.05531389 4.66246613 0.50337835\n",
            " 1.        ] 843.6771237058504\n",
            "New best for swarm at iteration 66: [3.         0.01       0.01       0.05532156 4.5300862  0.50340493\n",
            " 1.        ] 843.6765737844393\n",
            "New best for swarm at iteration 66: [3.         0.01       0.01       0.05532243 4.63284569 0.50341244\n",
            " 1.        ] 843.6748174209986\n",
            "Best after iteration 66: [3.         0.01       0.01       0.05532243 4.63284569 0.50341244\n",
            " 1.        ] 843.6748174209986\n",
            "Best after iteration 67: [3.         0.01       0.01       0.05532243 4.63284569 0.50341244\n",
            " 1.        ] 843.6748174209986\n",
            "Best after iteration 68: [3.         0.01       0.01       0.05532243 4.63284569 0.50341244\n",
            " 1.        ] 843.6748174209986\n",
            "Best after iteration 69: [3.         0.01       0.01       0.05532243 4.63284569 0.50341244\n",
            " 1.        ] 843.6748174209986\n",
            "New best for swarm at iteration 70: [3.         0.01       0.01       0.05532253 4.63348978 0.50341167\n",
            " 1.        ] 843.6746023895132\n",
            "Best after iteration 70: [3.         0.01       0.01       0.05532253 4.63348978 0.50341167\n",
            " 1.        ] 843.6746023895132\n",
            "New best for swarm at iteration 71: [3.         0.01       0.01       0.05531967 4.63570496 0.50343732\n",
            " 1.        ] 843.6728508249054\n",
            "Best after iteration 71: [3.         0.01       0.01       0.05531967 4.63570496 0.50343732\n",
            " 1.        ] 843.6728508249054\n",
            "New best for swarm at iteration 72: [3.         0.01       0.01       0.05531755 4.66183983 0.50341792\n",
            " 1.        ] 843.6708566424293\n",
            "Best after iteration 72: [3.         0.01       0.01       0.05531755 4.66183983 0.50341792\n",
            " 1.        ] 843.6708566424293\n",
            "New best for swarm at iteration 73: [3.         0.01       0.01       0.05531868 4.65948176 0.5034162\n",
            " 1.        ] 843.6699579804757\n",
            "Best after iteration 73: [3.         0.01       0.01       0.05531868 4.65948176 0.5034162\n",
            " 1.        ] 843.6699579804757\n",
            "Best after iteration 74: [3.         0.01       0.01       0.05531868 4.65948176 0.5034162\n",
            " 1.        ] 843.6699579804757\n",
            "Best after iteration 75: [3.         0.01       0.01       0.05531868 4.65948176 0.5034162\n",
            " 1.        ] 843.6699579804757\n",
            "Best after iteration 76: [3.         0.01       0.01       0.05531868 4.65948176 0.5034162\n",
            " 1.        ] 843.6699579804757\n",
            "New best for swarm at iteration 77: [3.         0.01       0.01       0.05531749 4.65798092 0.50341962\n",
            " 1.        ] 843.6693822658896\n",
            "Best after iteration 77: [3.         0.01       0.01       0.05531749 4.65798092 0.50341962\n",
            " 1.        ] 843.6693822658896\n",
            "Best after iteration 78: [3.         0.01       0.01       0.05531749 4.65798092 0.50341962\n",
            " 1.        ] 843.6693822658896\n",
            "New best for swarm at iteration 79: [3.         0.01       0.01       0.0553166  4.65708806 0.50341927\n",
            " 1.        ] 843.6688587407957\n",
            "Best after iteration 79: [3.         0.01       0.01       0.0553166  4.65708806 0.50341927\n",
            " 1.        ] 843.6688587407957\n",
            "New best for swarm at iteration 80: [3.         0.01       0.01       0.0553171  4.6589582  0.50341866\n",
            " 1.        ] 843.6686878199026\n",
            "Best after iteration 80: [3.         0.01       0.01       0.0553171  4.6589582  0.50341866\n",
            " 1.        ] 843.6686878199026\n",
            "New best for swarm at iteration 81: [3.         0.01       0.01       0.05531904 4.66268914 0.50342061\n",
            " 1.        ] 843.6679038183804\n",
            "Best after iteration 81: [3.         0.01       0.01       0.05531904 4.66268914 0.50342061\n",
            " 1.        ] 843.6679038183804\n",
            "Best after iteration 82: [3.         0.01       0.01       0.05531904 4.66268914 0.50342061\n",
            " 1.        ] 843.6679038183804\n",
            "New best for swarm at iteration 83: [3.         0.01       0.01       0.05531868 4.66595873 0.50342015\n",
            " 1.        ] 843.6677562584025\n",
            "Best after iteration 83: [3.         0.01       0.01       0.05531868 4.66595873 0.50342015\n",
            " 1.        ] 843.6677562584025\n",
            "Best after iteration 84: [3.         0.01       0.01       0.05531868 4.66595873 0.50342015\n",
            " 1.        ] 843.6677562584025\n",
            "New best for swarm at iteration 85: [3.         0.01       0.01       0.05531906 4.66505267 0.50341955\n",
            " 1.        ] 843.6675022853553\n",
            "Best after iteration 85: [3.         0.01       0.01       0.05531906 4.66505267 0.50341955\n",
            " 1.        ] 843.6675022853553\n",
            "New best for swarm at iteration 86: [3.         0.01       0.01       0.0553189  4.66466412 0.50341916\n",
            " 1.        ] 843.6675006684779\n",
            "Best after iteration 86: [3.         0.01       0.01       0.0553189  4.66466412 0.50341916\n",
            " 1.        ] 843.6675006684779\n",
            "Best after iteration 87: [3.         0.01       0.01       0.0553189  4.66466412 0.50341916\n",
            " 1.        ] 843.6675006684779\n",
            "Best after iteration 88: [3.         0.01       0.01       0.0553189  4.66466412 0.50341916\n",
            " 1.        ] 843.6675006684779\n",
            "Best after iteration 89: [3.         0.01       0.01       0.0553189  4.66466412 0.50341916\n",
            " 1.        ] 843.6675006684779\n",
            "Best after iteration 90: [3.         0.01       0.01       0.0553189  4.66466412 0.50341916\n",
            " 1.        ] 843.6675006684779\n",
            "Best after iteration 91: [3.         0.01       0.01       0.0553189  4.66466412 0.50341916\n",
            " 1.        ] 843.6675006684779\n",
            "New best for swarm at iteration 92: [3.         0.01       0.01       0.0553189  4.66541054 0.50341907\n",
            " 1.        ] 843.6670919856325\n",
            "Best after iteration 92: [3.         0.01       0.01       0.0553189  4.66541054 0.50341907\n",
            " 1.        ] 843.6670919856325\n",
            "Best after iteration 93: [3.         0.01       0.01       0.0553189  4.66541054 0.50341907\n",
            " 1.        ] 843.6670919856325\n",
            "Best after iteration 94: [3.         0.01       0.01       0.0553189  4.66541054 0.50341907\n",
            " 1.        ] 843.6670919856325\n",
            "Best after iteration 95: [3.         0.01       0.01       0.0553189  4.66541054 0.50341907\n",
            " 1.        ] 843.6670919856325\n",
            "Best after iteration 96: [3.         0.01       0.01       0.0553189  4.66541054 0.50341907\n",
            " 1.        ] 843.6670919856325\n",
            "Best after iteration 97: [3.         0.01       0.01       0.0553189  4.66541054 0.50341907\n",
            " 1.        ] 843.6670919856325\n",
            "Best after iteration 98: [3.         0.01       0.01       0.0553189  4.66541054 0.50341907\n",
            " 1.        ] 843.6670919856325\n",
            "Best after iteration 99: [3.         0.01       0.01       0.0553189  4.66541054 0.50341907\n",
            " 1.        ] 843.6670919856325\n",
            "Best after iteration 100: [3.         0.01       0.01       0.0553189  4.66541054 0.50341907\n",
            " 1.        ] 843.6670919856325\n",
            "Stopping search: maximum iterations reached --> 100\n",
            "\n",
            "Algoritma PSO Membutuhkan Waktu 525.22323179245 Detik\n",
            "Best max_depth : 3\n",
            "Best gamma : 0.01\n",
            "Best reg_lambda : 0.01\n",
            "Best learning_rate : 0.0553189001394339\n",
            "Best min_child_weight : 4.665410538485722\n",
            "Best subsample : 0.5034190687402962\n",
            "Best colsample_bytree : 1.0\n",
            "Model hasil optimasi PSO telah disimpan ke file 'xgboost_model_pso.pkl'\n"
          ]
        }
      ],
      "source": [
        "# --- MULAI ---\n",
        "# Training Model XGBoost dengan optimasi parameter PSO\n",
        "def tune_xgboost(params):\n",
        "    max_depth = int(params[0])\n",
        "    gamma = params[1]\n",
        "    reg_lambda = params[2]\n",
        "    learning_rate = params[3]\n",
        "    min_child_weight = params[4]\n",
        "    subsample = params[5]\n",
        "    colsample_bytree = params[6]\n",
        "\n",
        "    model_pso = XGBRegressor(\n",
        "        max_depth=max_depth,\n",
        "        gamma=gamma,\n",
        "        reg_lambda=reg_lambda,\n",
        "        learning_rate=learning_rate,\n",
        "        min_child_weight=min_child_weight,\n",
        "        subsample=subsample,\n",
        "        colsample_bytree=colsample_bytree\n",
        "    )\n",
        "\n",
        "    model_pso.fit(x_train2, y_train2)\n",
        "    pred2 = model_pso.predict(x_test2)\n",
        "    mse2 = mean_squared_error(y_test2, pred2)\n",
        "\n",
        "    return mse2\n",
        "\n",
        "# Optimasi Parameter dengan PSO\n",
        "lb = [3, 0.01, 0.01, 0.01, 1, 0.5, 0.6]  # Lower Bound\n",
        "ub = [10, 0.5, 10, 0.3, 10, 0.9, 1]      # Upper Bound\n",
        "\n",
        "start_time = time.time()\n",
        "\n",
        "best_params, _ = pso(\n",
        "    tune_xgboost,\n",
        "    lb,\n",
        "    ub,\n",
        "    swarmsize=100,\n",
        "    omega=0.6,\n",
        "    phip=1.5,\n",
        "    phig=1.5,\n",
        "    maxiter=100,\n",
        "    minfunc=1e-12,\n",
        "    debug=True\n",
        ")\n",
        "\n",
        "end_time = time.time()\n",
        "elapsed_time = end_time - start_time\n",
        "\n",
        "print(f\"\\nAlgoritma PSO Membutuhkan Waktu {elapsed_time} Detik\")\n",
        "\n",
        "# Best Parameter Hasil PSO\n",
        "best_max_depth = int(best_params[0])\n",
        "best_gamma = best_params[1]\n",
        "best_reg_lambda = best_params[2]\n",
        "best_learning_rate = best_params[3]\n",
        "best_min_child_weight = best_params[4]\n",
        "best_subsample = best_params[5]\n",
        "best_colsample_bytree = best_params[6]\n",
        "\n",
        "print('Best max_depth :', best_max_depth)\n",
        "print('Best gamma :', best_gamma)\n",
        "print('Best reg_lambda :', best_reg_lambda)\n",
        "print('Best learning_rate :', best_learning_rate)\n",
        "print('Best min_child_weight :', best_min_child_weight)\n",
        "print('Best subsample :', best_subsample)\n",
        "print('Best colsample_bytree :', best_colsample_bytree)\n",
        "\n",
        "# Latih ulang model dengan parameter terbaik\n",
        "model_pso = XGBRegressor(\n",
        "    max_depth=best_max_depth,\n",
        "    gamma=best_gamma,\n",
        "    reg_lambda=best_reg_lambda,\n",
        "    learning_rate=best_learning_rate,\n",
        "    min_child_weight=best_min_child_weight,\n",
        "    subsample=best_subsample,\n",
        "    colsample_bytree=best_colsample_bytree\n",
        ")\n",
        "\n",
        "model_pso.fit(x_train2, y_train2)\n",
        "\n",
        "# Simpan model PSO ke file setelah eksperimen\n",
        "joblib.dump(model_pso, \"xgboost_model_pso.pkl\")\n",
        "print(\"Model hasil optimasi PSO telah disimpan ke file 'xgboost_model_pso.pkl'\")\n",
        "# --- SELESAI ---"
      ]
    },
    {
      "cell_type": "code",
      "execution_count": 17,
      "id": "e0xKHPCuz6xm",
      "metadata": {
        "colab": {
          "base_uri": "https://localhost:8080/"
        },
        "id": "e0xKHPCuz6xm",
        "outputId": "607e8467-b370-497d-90ed-dedbdfbca2ba"
      },
      "outputs": [
        {
          "name": "stdout",
          "output_type": "stream",
          "text": [
            "Best model berhasil dilatih dan disimpan sebagai 'best_xgboost_model.pkl'\n"
          ]
        }
      ],
      "source": [
        "# --- MULAI ---\n",
        "# Training Best Model XGBoost dengan Parameter Terbaik hasil PSO\n",
        "best_model = XGBRegressor(\n",
        "    max_depth=3,  # Hasil dari PSO\n",
        "    gamma=0.01,  # Hasil dari PSO\n",
        "    reg_lambda=0.01,  # Hasil dari PSO\n",
        "    learning_rate=0.0553189001394339,  # Hasil dari PSO\n",
        "    min_child_weight=4.665410538485722,  # Hasil dari PSO\n",
        "    subsample=0.5034190687402962,  # Hasil dari PSO\n",
        "    colsample_bytree=1.0,  # Hasil dari PSO\n",
        "    random_state=42  # Untuk reproduktifitas\n",
        ")\n",
        "\n",
        "# Fit model ke data latih\n",
        "best_model.fit(x_train2, y_train2)\n",
        "\n",
        "# Simpan best model ke file\n",
        "joblib.dump(best_model, \"best_xgboost_model.pkl\")\n",
        "\n",
        "print(\"Best model berhasil dilatih dan disimpan sebagai 'best_xgboost_model.pkl'\")\n",
        "# --- SELESAI ---"
      ]
    },
    {
      "cell_type": "markdown",
      "id": "8VzKd8MQo0Ge",
      "metadata": {
        "id": "8VzKd8MQo0Ge"
      },
      "source": [
        "### **8. Prediksi dan Evaluasi Hasil**"
      ]
    },
    {
      "cell_type": "code",
      "execution_count": 18,
      "id": "e_wqQrCQ01LI",
      "metadata": {
        "colab": {
          "base_uri": "https://localhost:8080/"
        },
        "id": "e_wqQrCQ01LI",
        "outputId": "5c2fe3cf-bfae-4705-81de-7e27bfa6c09e"
      },
      "outputs": [
        {
          "name": "stdout",
          "output_type": "stream",
          "text": [
            "=== Model 1: XGBoost tanpa optimasi PSO ===\n",
            "Mean Squared Error (MSE): 1406.367046204681\n",
            "Root Mean Squared Error (RMSE): 37.501560583590134\n",
            "Mean Absolute Error (MAE): 27.51816771630527\n",
            "Mean Absolute Percentage Error (MAPE): 1.8396499395483343\n",
            "R-squared: 0.976194509693605\n",
            "\n",
            "=== Model 2: XGBoost dengan optimasi PSO ===\n",
            "Mean Squared Error (MSE): 925.0080253001507\n",
            "Root Mean Squared Error (RMSE): 30.413944586326693\n",
            "Mean Absolute Error (MAE): 22.456805170798788\n",
            "Mean Absolute Percentage Error (MAPE): 1.4949884698803528\n",
            "R-squared: 0.9843424448553131\n",
            "\n",
            "Model 1 dan Model 2 berhasil disimpan ke file.\n"
          ]
        }
      ],
      "source": [
        "#---MULAI---\n",
        "# Langkah 8: Prediksi dan Evaluasi\n",
        "\n",
        "# Prediksi data uji untuk Model 1 (XGBoost tanpa optimasi PSO)\n",
        "y_pred = model.predict(X_test)\n",
        "\n",
        "# Prediksi data uji untuk Model 2 (XGBoost dengan optimasi parameter dari PSO)\n",
        "y_pred2 = best_model.predict(x_test2)\n",
        "\n",
        "# Pastikan y_test dan y_test2 adalah numerik\n",
        "if y_test.dtype == 'object':\n",
        "    y_test = y_test.astype(float)\n",
        "\n",
        "if y_test2.dtype == 'object':\n",
        "    y_test2 = y_test2.astype(float)\n",
        "\n",
        "# Evaluasi Hasil untuk Model 1\n",
        "mse1 = mean_squared_error(y_test, y_pred)\n",
        "rmse1 = np.sqrt(mse1)\n",
        "mae1 = mean_absolute_error(y_test, y_pred)\n",
        "mape1 = np.mean(np.abs((y_test - y_pred) / y_test)) * 100\n",
        "r2_1 = r2_score(y_test, y_pred)\n",
        "\n",
        "print(\"=== Model 1: XGBoost tanpa optimasi PSO ===\")\n",
        "print(\"Mean Squared Error (MSE):\", mse1)\n",
        "print(\"Root Mean Squared Error (RMSE):\", rmse1)\n",
        "print(\"Mean Absolute Error (MAE):\", mae1)\n",
        "print(\"Mean Absolute Percentage Error (MAPE):\", mape1)\n",
        "print(\"R-squared:\", r2_1)\n",
        "\n",
        "# Evaluasi Hasil untuk Model 2\n",
        "mse2 = mean_squared_error(y_test2, y_pred2)\n",
        "rmse2 = np.sqrt(mse2)\n",
        "mae2 = mean_absolute_error(y_test2, y_pred2)\n",
        "mape2 = np.mean(np.abs((y_test2 - y_pred2) / y_test2)) * 100\n",
        "r2_2 = r2_score(y_test2, y_pred2)\n",
        "\n",
        "print(\"\\n=== Model 2: XGBoost dengan optimasi PSO ===\")\n",
        "print(\"Mean Squared Error (MSE):\", mse2)\n",
        "print(\"Root Mean Squared Error (RMSE):\", rmse2)\n",
        "print(\"Mean Absolute Error (MAE):\", mae2)\n",
        "print(\"Mean Absolute Percentage Error (MAPE):\", mape2)\n",
        "print(\"R-squared:\", r2_2)\n",
        "\n",
        "# Save Model\n",
        "pickle.dump(model, open('model_xgboost.pkl', 'wb'))\n",
        "pickle.dump(best_model, open('model_xgboost_pso.pkl', 'wb'))\n",
        "\n",
        "print(\"\\nModel 1 dan Model 2 berhasil disimpan ke file.\")\n",
        "#---SELESAI---"
      ]
    },
    {
      "cell_type": "markdown",
      "id": "8UGD0TIf1Q7N",
      "metadata": {
        "id": "8UGD0TIf1Q7N"
      },
      "source": [
        "### **9. GUI**"
      ]
    },
    {
      "cell_type": "markdown",
      "id": "JxhP-6uo3Bk5",
      "metadata": {
        "id": "JxhP-6uo3Bk5"
      },
      "source": [
        "#### **9.1 Backend Flask**"
      ]
    },
    {
      "cell_type": "code",
      "execution_count": 84,
      "id": "KYkwzJgU3Esz",
      "metadata": {
        "colab": {
          "base_uri": "https://localhost:8080/"
        },
        "id": "KYkwzJgU3Esz",
        "outputId": "9560cdee-7041-419d-fa4e-a9633e3eb082"
      },
      "outputs": [
        {
          "name": "stdout",
          "output_type": "stream",
          "text": [
            " * Serving Flask app '__main__'\n",
            " * Debug mode: on\n"
          ]
        },
        {
          "name": "stderr",
          "output_type": "stream",
          "text": [
            "INFO:werkzeug:\u001b[31m\u001b[1mWARNING: This is a development server. Do not use it in a production deployment. Use a production WSGI server instead.\u001b[0m\n",
            " * Running on http://127.0.0.1:5000\n",
            "INFO:werkzeug:\u001b[33mPress CTRL+C to quit\u001b[0m\n",
            "INFO:werkzeug: * Restarting with stat\n"
          ]
        }
      ],
      "source": [
        "from flask import Flask, render_template, request\n",
        "import pickle\n",
        "import pandas as pd\n",
        "from sklearn.metrics import mean_squared_error, mean_absolute_error, r2_score, mean_absolute_percentage_error\n",
        "import numpy as np\n",
        "\n",
        "# Load model\n",
        "model = pickle.load(open(\"model_xgboost_pso.pkl\", \"rb\"))\n",
        "\n",
        "app = Flask(__name__)\n",
        "\n",
        "@app.route('/')\n",
        "def index():\n",
        "    return render_template('index.html')\n",
        "\n",
        "@app.route('/predict', methods=[\"POST\"])\n",
        "def predict():\n",
        "    close_price = float(request.form['close'])\n",
        "\n",
        "    # Predict next day close price\n",
        "    input_data = [[close_price]]\n",
        "    predicted_close = model.predict(input_data)[0]\n",
        "\n",
        "    # Example evaluation metrics (static for demo)\n",
        "    y_test = np.array([1500, 1520, 1535, 1550])\n",
        "    y_pred = np.array([1495, 1525, 1530, 1545])\n",
        "    mse = mean_squared_error(y_test, y_pred)\n",
        "    rmse = np.sqrt(mse)\n",
        "    mae = mean_absolute_error(y_test, y_pred)\n",
        "    mape = mean_absolute_percentage_error(y_test, y_pred)\n",
        "    r2 = r2_score(y_test, y_pred)\n",
        "\n",
        "    metrics = {\n",
        "        'mse': mse,\n",
        "        'rmse': rmse,\n",
        "        'mae': mae,\n",
        "        'mape': mape,\n",
        "        'r2': r2\n",
        "    }\n",
        "\n",
        "    return render_template(\n",
        "        'index.html',\n",
        "        prediction=f\"Harga prediksi untuk hari berikutnya: {predicted_close:.2f}\",\n",
        "        metrics=metrics\n",
        "    )\n",
        "\n",
        "if __name__ == \"__main__\":\n",
        "    app.run(debug=True, port=5000)"
      ]
    }
  ],
  "metadata": {
    "colab": {
      "provenance": []
    },
    "kernelspec": {
      "display_name": "breast-cancer",
      "language": "python",
      "name": "python3"
    },
    "language_info": {
      "codemirror_mode": {
        "name": "ipython",
        "version": 3
      },
      "file_extension": ".py",
      "mimetype": "text/x-python",
      "name": "python",
      "nbconvert_exporter": "python",
      "pygments_lexer": "ipython3",
      "version": "3.12.1"
    }
  },
  "nbformat": 4,
  "nbformat_minor": 5
}
