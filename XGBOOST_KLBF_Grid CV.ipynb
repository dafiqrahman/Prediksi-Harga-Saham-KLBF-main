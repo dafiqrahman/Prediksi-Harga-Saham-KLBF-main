{
  "cells": [
    {
      "cell_type": "markdown",
      "id": "57fab3da",
      "metadata": {
        "id": "57fab3da"
      },
      "source": [
        "### **1. Mengimpor Library**"
      ]
    },
    {
      "cell_type": "code",
      "execution_count": 33,
      "id": "s2xWBighnZBE",
      "metadata": {
        "id": "s2xWBighnZBE"
      },
      "outputs": [],
      "source": [
        "#---MULAI---\n",
        "import yfinance as yf\n",
        "import pandas as pd\n",
        "import numpy as np\n",
        "from sklearn.model_selection import train_test_split\n",
        "from sklearn.metrics import mean_squared_error, mean_absolute_error, r2_score\n",
        "from sklearn.preprocessing import MinMaxScaler\n",
        "import xgboost as xgb\n",
        "import joblib\n",
        "import matplotlib.pyplot as plt\n",
        "import seaborn as sns\n",
        "import pickle\n",
        "import time\n",
        "from sklearn.metrics import mean_squared_error, r2_score\n",
        "from sklearn.metrics import mean_absolute_error\n",
        "from sklearn.metrics import mean_absolute_percentage_error\n",
        "from xgboost import XGBRegressor\n",
        "#---SELESAI---"
      ]
    },
    {
      "cell_type": "markdown",
      "id": "ZdW26fUPnmm1",
      "metadata": {
        "id": "ZdW26fUPnmm1"
      },
      "source": [
        "### **2. Mengambil Data dari Yahoo Finance**"
      ]
    },
    {
      "cell_type": "code",
      "execution_count": 42,
      "id": "ypQybzV5nyDg",
      "metadata": {
        "colab": {
          "base_uri": "https://localhost:8080/"
        },
        "id": "ypQybzV5nyDg",
        "outputId": "448ac7cd-3dea-4f69-8c67-73fd0f2243cb"
      },
      "outputs": [
        {
          "name": "stderr",
          "output_type": "stream",
          "text": [
            "[*********************100%***********************]  1 of 1 completed\n"
          ]
        },
        {
          "data": {
            "text/html": [
              "<div>\n",
              "<style scoped>\n",
              "    .dataframe tbody tr th:only-of-type {\n",
              "        vertical-align: middle;\n",
              "    }\n",
              "\n",
              "    .dataframe tbody tr th {\n",
              "        vertical-align: top;\n",
              "    }\n",
              "\n",
              "    .dataframe thead th {\n",
              "        text-align: right;\n",
              "    }\n",
              "</style>\n",
              "<table border=\"1\" class=\"dataframe\">\n",
              "  <thead>\n",
              "    <tr style=\"text-align: right;\">\n",
              "      <th></th>\n",
              "      <th>Date</th>\n",
              "      <th>Close</th>\n",
              "      <th>High</th>\n",
              "      <th>Low</th>\n",
              "      <th>Open</th>\n",
              "      <th>Volume</th>\n",
              "    </tr>\n",
              "  </thead>\n",
              "  <tbody>\n",
              "    <tr>\n",
              "      <th>0</th>\n",
              "      <td>2019-01-01</td>\n",
              "      <td>1353.745850</td>\n",
              "      <td>1353.745850</td>\n",
              "      <td>1353.745850</td>\n",
              "      <td>1353.745850</td>\n",
              "      <td>0</td>\n",
              "    </tr>\n",
              "    <tr>\n",
              "      <th>1</th>\n",
              "      <td>2019-01-02</td>\n",
              "      <td>1358.199097</td>\n",
              "      <td>1362.652208</td>\n",
              "      <td>1335.933538</td>\n",
              "      <td>1358.199097</td>\n",
              "      <td>5035800</td>\n",
              "    </tr>\n",
              "    <tr>\n",
              "      <th>2</th>\n",
              "      <td>2019-01-03</td>\n",
              "      <td>1371.558350</td>\n",
              "      <td>1376.011461</td>\n",
              "      <td>1340.386569</td>\n",
              "      <td>1367.105238</td>\n",
              "      <td>15603900</td>\n",
              "    </tr>\n",
              "    <tr>\n",
              "      <th>3</th>\n",
              "      <td>2019-01-04</td>\n",
              "      <td>1398.277100</td>\n",
              "      <td>1402.730211</td>\n",
              "      <td>1353.745982</td>\n",
              "      <td>1367.105317</td>\n",
              "      <td>19765600</td>\n",
              "    </tr>\n",
              "    <tr>\n",
              "      <th>4</th>\n",
              "      <td>2019-01-07</td>\n",
              "      <td>1420.542480</td>\n",
              "      <td>1433.901814</td>\n",
              "      <td>1407.183147</td>\n",
              "      <td>1407.183147</td>\n",
              "      <td>28281300</td>\n",
              "    </tr>\n",
              "  </tbody>\n",
              "</table>\n",
              "</div>"
            ],
            "text/plain": [
              "         Date        Close         High          Low         Open    Volume\n",
              "0  2019-01-01  1353.745850  1353.745850  1353.745850  1353.745850         0\n",
              "1  2019-01-02  1358.199097  1362.652208  1335.933538  1358.199097   5035800\n",
              "2  2019-01-03  1371.558350  1376.011461  1340.386569  1367.105238  15603900\n",
              "3  2019-01-04  1398.277100  1402.730211  1353.745982  1367.105317  19765600\n",
              "4  2019-01-07  1420.542480  1433.901814  1407.183147  1407.183147  28281300"
            ]
          },
          "execution_count": 42,
          "metadata": {},
          "output_type": "execute_result"
        }
      ],
      "source": [
        "#---MULAI---\n",
        "# Ticker saham\n",
        "ticker = \"KLBF.JK\"\n",
        "\n",
        "# Rentang waktu\n",
        "start_date = \"2019-01-01\"\n",
        "end_date = \"2024-12-31\"\n",
        "\n",
        "# Ambil data historis menggunakan yfinance\n",
        "data = yf.download(ticker, start=start_date, end=end_date)\n",
        "\n",
        "# Simpan data ke file CSV\n",
        "data.to_csv(\"KLBF_JK_Historical.csv\")\n",
        "\n",
        "# # Tampilkan 5 baris pertama\n",
        "data = pd.read_csv(\"KLBF_JK_Historical_fix.csv\")\n",
        "data.head()\n",
        "#---SELESAI---"
      ]
    },
    {
      "cell_type": "markdown",
      "id": "EVbiVnbEn5Hw",
      "metadata": {
        "id": "EVbiVnbEn5Hw"
      },
      "source": [
        "### **3. Persiapan Dataset**"
      ]
    },
    {
      "cell_type": "code",
      "execution_count": 43,
      "id": "_zG1p5wsn2tl",
      "metadata": {
        "id": "_zG1p5wsn2tl"
      },
      "outputs": [],
      "source": [
        "#---MULAI---\n",
        "# Tambahkan target Next_Day_Close\n",
        "data['Next_Day_Close'] = data['Close'].shift(-1)\n",
        "data.dropna(inplace=True)\n",
        "\n",
        "# Pilih fitur dan target\n",
        "features = ['Open','High','Low','Close']\n",
        "target = 'Next_Day_Close'\n",
        "\n",
        "X = data[features]\n",
        "y = data[target]\n",
        "#---SELESAI---"
      ]
    },
    {
      "cell_type": "markdown",
      "id": "4mhBkF6roApe",
      "metadata": {
        "id": "4mhBkF6roApe"
      },
      "source": [
        "### **4. Normalisasi Data**"
      ]
    },
    {
      "cell_type": "code",
      "execution_count": 54,
      "id": "vLRYLveXn9lq",
      "metadata": {
        "id": "vLRYLveXn9lq"
      },
      "outputs": [],
      "source": [
        "#---MULAI---\n",
        "# Normalisasi fitur\n",
        "scaler = MinMaxScaler()\n",
        "X_scaled = scaler.fit_transform(X)\n",
        "#---SELESAI---"
      ]
    },
    {
      "cell_type": "code",
      "execution_count": 56,
      "id": "025a4129",
      "metadata": {},
      "outputs": [],
      "source": [
        "#export scaler\n",
        "import pickle\n",
        "pickle.dump(scaler, open(\"scaler_xgb.pkl\", \"wb\"))"
      ]
    },
    {
      "cell_type": "markdown",
      "id": "9nIB_0GOoJNf",
      "metadata": {
        "id": "9nIB_0GOoJNf"
      },
      "source": [
        "### **5. Membagi Data Latih dan Uji**"
      ]
    },
    {
      "cell_type": "code",
      "execution_count": 46,
      "id": "KbvTXH4ioHGl",
      "metadata": {
        "id": "KbvTXH4ioHGl"
      },
      "outputs": [],
      "source": [
        "#---MULAI---\n",
        "# Bagi data menjadi data latih dan uji\n",
        "X_train, X_test, y_train, y_test = train_test_split(X_scaled, y, test_size=0.2, random_state=42)\n",
        "\n",
        "# Data Training dan Testing untuk Skenario 2 (XGBoost-PSO)\n",
        "x_train2 = X_train.copy()  # Salin data latih untuk skenario 2\n",
        "y_train2 = y_train.copy()\n",
        "x_test2 = X_test.copy()    # Salin data uji untuk skenario 2\n",
        "y_test2 = y_test.copy()\n",
        "#---SELESAI---"
      ]
    },
    {
      "cell_type": "markdown",
      "id": "gZIAA1xzoOrQ",
      "metadata": {
        "id": "gZIAA1xzoOrQ"
      },
      "source": [
        "### **6. Melatih Model XGBoost**\n",
        "\n",
        "\n"
      ]
    },
    {
      "cell_type": "code",
      "execution_count": 47,
      "id": "CBBd_ZC4otL-",
      "metadata": {
        "colab": {
          "base_uri": "https://localhost:8080/"
        },
        "id": "CBBd_ZC4otL-",
        "outputId": "41f63859-6f2e-46d6-c97c-be9a49e5c343"
      },
      "outputs": [
        {
          "data": {
            "text/plain": [
              "['xgboost_model_klbf.pkl']"
            ]
          },
          "execution_count": 47,
          "metadata": {},
          "output_type": "execute_result"
        }
      ],
      "source": [
        "#---MULAI---\n",
        "# Train model XGBoost\n",
        "model = xgb.XGBRegressor(random_state=42)\n",
        "model.fit(X_train, y_train)\n",
        "\n",
        "# Simpan model ke file\n",
        "joblib.dump(model, \"xgboost_model_klbf.pkl\")\n",
        "#---SELESAI---"
      ]
    },
    {
      "cell_type": "markdown",
      "id": "E-gSNXhnswyP",
      "metadata": {
        "id": "E-gSNXhnswyP"
      },
      "source": [
        "### **7. Eksperimen Parameter XGBoost**"
      ]
    },
    {
      "cell_type": "markdown",
      "id": "NzZQwjOPs6Vw",
      "metadata": {
        "id": "NzZQwjOPs6Vw"
      },
      "source": [
        "#### **7.1 XGBoost tanpa optimasi GridSearch**\n",
        "\n"
      ]
    },
    {
      "cell_type": "code",
      "execution_count": 48,
      "id": "r8AvMG9NtB_R",
      "metadata": {
        "colab": {
          "base_uri": "https://localhost:8080/"
        },
        "id": "r8AvMG9NtB_R",
        "outputId": "aee5c502-0039-402b-dc0f-fa1eaa6d2d95"
      },
      "outputs": [
        {
          "data": {
            "text/plain": [
              "['xgboost_model_default.pkl']"
            ]
          },
          "execution_count": 48,
          "metadata": {},
          "output_type": "execute_result"
        }
      ],
      "source": [
        "# --- MULAI ---\n",
        "# Training Model XGBoost dengan Parameter default\n",
        "model_default = XGBRegressor(\n",
        "    max_depth=6,\n",
        "    gamma=0,\n",
        "    reg_lambda=1,\n",
        "    learning_rate=0.3,\n",
        "    min_child_weight=1,\n",
        "    subsample=1,\n",
        "    colsample_bytree=1\n",
        ")\n",
        "\n",
        "model_default.fit(X_train, y_train)\n",
        "\n",
        "# Simpan model default ke file\n",
        "joblib.dump(model_default, \"xgboost_model_default.pkl\")\n",
        "# --- SELESAI ---"
      ]
    },
    {
      "cell_type": "markdown",
      "id": "0gWpExI2uO4f",
      "metadata": {
        "id": "0gWpExI2uO4f"
      },
      "source": [
        "#### **7.2 XGBoost dengan optimasi parameter GridSearch**"
      ]
    },
    {
      "cell_type": "code",
      "execution_count": 49,
      "id": "86A4c18DuTYx",
      "metadata": {
        "colab": {
          "base_uri": "https://localhost:8080/"
        },
        "id": "86A4c18DuTYx",
        "outputId": "64494252-3259-4fa2-91d8-2475ce48bf18"
      },
      "outputs": [
        {
          "name": "stdout",
          "output_type": "stream",
          "text": [
            "Fitting 5 folds for each of 2916 candidates, totalling 14580 fits\n",
            "Best max_depth : 3\n",
            "Best gamma : 0.01\n",
            "Best reg_lambda : 10\n",
            "Best learning_rate : 0.1\n",
            "Best min_child_weight : 1\n",
            "Best subsample : 0.9\n",
            "Best colsample_bytree : 0.8\n",
            "Model hasil optimasi Grid Search telah disimpan ke file 'xgboost_model_gridsearch.pkl'\n"
          ]
        }
      ],
      "source": [
        "# --- MULAI ---\n",
        "# Training Model XGBoost dengan optimasi parameter GridSearch\n",
        "from sklearn.model_selection import GridSearchCV\n",
        "\n",
        "# Parameter yang akan dioptimasi\n",
        "param_grid = {\n",
        "    \"max_depth\" :[3,6,9],\n",
        "    \"gamma\" :[0.01,0.1,0.5],\n",
        "    \"reg_lambda\" :[0.01, 0.1, 1, 10],\n",
        "    \"learning_rate\" :[0.01, 0.1, 0.3],\n",
        "    \"min_child_weight\" :[1,5,10],\n",
        "    \"subsample\" :[0.5,0.7,0.9],\n",
        "    \"colsample_bytree\" :[0.6,0.8,1]\n",
        "}\n",
        "\n",
        "# Inisialisasi model XGBoost\n",
        "model2 = XGBRegressor(random_state=42)\n",
        "\n",
        "# Inisialisasi GridSearchCV\n",
        "grid_search = GridSearchCV(\n",
        "    model2,\n",
        "    param_grid,\n",
        "    cv=5,\n",
        "    n_jobs=-1,\n",
        "    verbose=2\n",
        ")\n",
        "\n",
        "# Lakukan optimasi parameter\n",
        "grid_search.fit(X_train, y_train)\n",
        "\n",
        "# Simpan model hasil optimasi ke file\n",
        "joblib.dump(grid_search.best_estimator_, \"xgboost_model_gridsearch.pkl\")\n",
        "\n",
        "# Tampilkan parameter terbaik\n",
        "print('Best max_depth :', grid_search.best_estimator_.max_depth)\n",
        "print('Best gamma :', grid_search.best_estimator_.gamma)\n",
        "print('Best reg_lambda :', grid_search.best_estimator_.reg_lambda)\n",
        "print('Best learning_rate :', grid_search.best_estimator_.learning_rate)\n",
        "print('Best min_child_weight :', grid_search.best_estimator_.min_child_weight)\n",
        "print('Best subsample :', grid_search.best_estimator_.subsample)\n",
        "print('Best colsample_bytree :', grid_search.best_estimator_.colsample_bytree)\n",
        "\n",
        "\n",
        "\n",
        "# Simpan model Grid Search ke file setelah eksperimen\n",
        "print(\"Model hasil optimasi Grid Search telah disimpan ke file 'xgboost_model_gridsearch.pkl'\")\n",
        "# --- SELESAI ---"
      ]
    },
    {
      "cell_type": "code",
      "execution_count": 50,
      "id": "e0xKHPCuz6xm",
      "metadata": {
        "colab": {
          "base_uri": "https://localhost:8080/"
        },
        "id": "e0xKHPCuz6xm",
        "outputId": "607e8467-b370-497d-90ed-dedbdfbca2ba"
      },
      "outputs": [
        {
          "name": "stdout",
          "output_type": "stream",
          "text": [
            "Best model berhasil dilatih dan disimpan sebagai 'best_xgboost_model_gridseaerch.pkl'\n"
          ]
        }
      ],
      "source": [
        "# --- MULAI ---\n",
        "# Training Best Model XGBoost dengan Parameter Terbaik hasil Gridsearch\n",
        "best_model = XGBRegressor(\n",
        "    max_depth=3,  # Hasil dari Gridsearch\n",
        "    gamma=0.01,  # Hasil dari Gridsearch\n",
        "    reg_lambda=10,  # Hasil dari Gridsearch\n",
        "    learning_rate=0.1,  # Hasil dari Gridsearch\n",
        "    min_child_weight=1,  # Hasil dari Gridsearch\n",
        "    subsample=0.9,  # Hasil dari Gridsearch\n",
        "    colsample_bytree=0.8,  # Hasil dari Gridsearch\n",
        "    random_state=42  # Untuk reproduktifitas\n",
        ")\n",
        "\n",
        "# Fit model ke data latih\n",
        "best_model.fit(x_train2, y_train2)\n",
        "\n",
        "# Simpan best model ke file\n",
        "joblib.dump(best_model, \"best_xgboost_model_gridsearch.pkl\")\n",
        "\n",
        "print(\"Best model berhasil dilatih dan disimpan sebagai 'best_xgboost_model_gridseaerch.pkl'\")\n",
        "# --- SELESAI ---"
      ]
    },
    {
      "cell_type": "markdown",
      "id": "8VzKd8MQo0Ge",
      "metadata": {
        "id": "8VzKd8MQo0Ge"
      },
      "source": [
        "### **8. Prediksi dan Evaluasi Hasil**"
      ]
    },
    {
      "cell_type": "code",
      "execution_count": 51,
      "id": "e_wqQrCQ01LI",
      "metadata": {
        "colab": {
          "base_uri": "https://localhost:8080/"
        },
        "id": "e_wqQrCQ01LI",
        "outputId": "5c2fe3cf-bfae-4705-81de-7e27bfa6c09e"
      },
      "outputs": [
        {
          "name": "stdout",
          "output_type": "stream",
          "text": [
            "=== Model 1: XGBoost tanpa optimasi Gridsearch ===\n",
            "Mean Squared Error (MSE): 1406.367046204681\n",
            "Root Mean Squared Error (RMSE): 37.501560583590134\n",
            "Mean Absolute Error (MAE): 27.51816771630527\n",
            "Mean Absolute Percentage Error (MAPE): 1.8396499395483343\n",
            "R-squared: 0.976194509693605\n",
            "\n",
            "=== Model 2: XGBoost dengan optimasi Gridsearch ===\n",
            "Mean Squared Error (MSE): 919.3785589276656\n",
            "Root Mean Squared Error (RMSE): 30.321255892981505\n",
            "Mean Absolute Error (MAE): 22.575748158149977\n",
            "Mean Absolute Percentage Error (MAPE): 1.5079700599801582\n",
            "R-squared: 0.9844377344936205\n"
          ]
        }
      ],
      "source": [
        "#---MULAI---\n",
        "# Langkah 8: Prediksi dan Evaluasi\n",
        "\n",
        "# Prediksi data uji untuk Model 1 (XGBoost tanpa optimasi PSO)\n",
        "y_pred = model.predict(X_test)\n",
        "\n",
        "# Prediksi data uji untuk Model 2 (XGBoost dengan optimasi parameter dari PSO)\n",
        "y_pred2 = best_model.predict(x_test2)\n",
        "\n",
        "# Pastikan y_test dan y_test2 adalah numerik\n",
        "if y_test.dtype == 'object':\n",
        "    y_test = y_test.astype(float)\n",
        "\n",
        "if y_test2.dtype == 'object':\n",
        "    y_test2 = y_test2.astype(float)\n",
        "\n",
        "# Evaluasi Hasil untuk Model 1\n",
        "mse1 = mean_squared_error(y_test, y_pred)\n",
        "rmse1 = np.sqrt(mse1)\n",
        "mae1 = mean_absolute_error(y_test, y_pred)\n",
        "mape1 = np.mean(np.abs((y_test - y_pred) / y_test)) * 100\n",
        "r2_1 = r2_score(y_test, y_pred)\n",
        "\n",
        "print(\"=== Model 1: XGBoost tanpa optimasi Gridsearch ===\")\n",
        "print(\"Mean Squared Error (MSE):\", mse1)\n",
        "print(\"Root Mean Squared Error (RMSE):\", rmse1)\n",
        "print(\"Mean Absolute Error (MAE):\", mae1)\n",
        "print(\"Mean Absolute Percentage Error (MAPE):\", mape1)\n",
        "print(\"R-squared:\", r2_1)\n",
        "\n",
        "# Evaluasi Hasil untuk Model 2\n",
        "mse2 = mean_squared_error(y_test2, y_pred2)\n",
        "rmse2 = np.sqrt(mse2)\n",
        "mae2 = mean_absolute_error(y_test2, y_pred2)\n",
        "mape2 = np.mean(np.abs((y_test2 - y_pred2) / y_test2)) * 100\n",
        "r2_2 = r2_score(y_test2, y_pred2)\n",
        "\n",
        "print(\"\\n=== Model 2: XGBoost dengan optimasi Gridsearch ===\")\n",
        "print(\"Mean Squared Error (MSE):\", mse2)\n",
        "print(\"Root Mean Squared Error (RMSE):\", rmse2)\n",
        "print(\"Mean Absolute Error (MAE):\", mae2)\n",
        "print(\"Mean Absolute Percentage Error (MAPE):\", mape2)\n",
        "print(\"R-squared:\", r2_2)\n",
        "\n",
        "# # Save Model\n",
        "# pickle.dump(model, open('model_xgboost.pkl', 'wb'))\n",
        "# pickle.dump(best_model, open('model_xgboost_pso.pkl', 'wb'))\n",
        "\n",
        "# print(\"\\nModel 1 dan Model 2 berhasil disimpan ke file.\")\n",
        "#---SELESAI---"
      ]
    },
    {
      "cell_type": "markdown",
      "id": "8UGD0TIf1Q7N",
      "metadata": {
        "id": "8UGD0TIf1Q7N"
      },
      "source": [
        "### **9. GUI**"
      ]
    },
    {
      "cell_type": "markdown",
      "id": "JxhP-6uo3Bk5",
      "metadata": {
        "id": "JxhP-6uo3Bk5"
      },
      "source": [
        "#### **9.1 Backend Flask**"
      ]
    },
    {
      "cell_type": "code",
      "execution_count": 84,
      "id": "KYkwzJgU3Esz",
      "metadata": {
        "colab": {
          "base_uri": "https://localhost:8080/"
        },
        "id": "KYkwzJgU3Esz",
        "outputId": "9560cdee-7041-419d-fa4e-a9633e3eb082"
      },
      "outputs": [
        {
          "name": "stdout",
          "output_type": "stream",
          "text": [
            " * Serving Flask app '__main__'\n",
            " * Debug mode: on\n"
          ]
        },
        {
          "name": "stderr",
          "output_type": "stream",
          "text": [
            "INFO:werkzeug:\u001b[31m\u001b[1mWARNING: This is a development server. Do not use it in a production deployment. Use a production WSGI server instead.\u001b[0m\n",
            " * Running on http://127.0.0.1:5000\n",
            "INFO:werkzeug:\u001b[33mPress CTRL+C to quit\u001b[0m\n",
            "INFO:werkzeug: * Restarting with stat\n"
          ]
        }
      ],
      "source": [
        "from flask import Flask, render_template, request\n",
        "import pickle\n",
        "import pandas as pd\n",
        "from sklearn.metrics import mean_squared_error, mean_absolute_error, r2_score, mean_absolute_percentage_error\n",
        "import numpy as np\n",
        "\n",
        "# Load model\n",
        "model = pickle.load(open(\"best_xgboost_model_gridsearch.pkl\", \"rb\"))\n",
        "\n",
        "app = Flask(__name__)\n",
        "\n",
        "@app.route('/')\n",
        "def index():\n",
        "    return render_template('index.html')\n",
        "\n",
        "@app.route('/predict', methods=[\"POST\"])\n",
        "def predict():\n",
        "    close_price = float(request.form['close'])\n",
        "\n",
        "    # Predict next day close price\n",
        "    input_data = [[close_price]]\n",
        "    predicted_close = model.predict(input_data)[0]\n",
        "\n",
        "    # Example evaluation metrics (static for demo)\n",
        "    y_test = np.array([1500, 1520, 1535, 1550])\n",
        "    y_pred = np.array([1495, 1525, 1530, 1545])\n",
        "    mse = mean_squared_error(y_test, y_pred)\n",
        "    rmse = np.sqrt(mse)\n",
        "    mae = mean_absolute_error(y_test, y_pred)\n",
        "    mape = mean_absolute_percentage_error(y_test, y_pred)\n",
        "    r2 = r2_score(y_test, y_pred)\n",
        "\n",
        "    metrics = {\n",
        "        'mse': mse,\n",
        "        'rmse': rmse,\n",
        "        'mae': mae,\n",
        "        'mape': mape,\n",
        "        'r2': r2\n",
        "    }\n",
        "\n",
        "    return render_template(\n",
        "        'index.html',\n",
        "        prediction=f\"Harga prediksi untuk hari berikutnya: {predicted_close:.2f}\",\n",
        "        metrics=metrics\n",
        "    )\n",
        "\n",
        "if __name__ == \"__main__\":\n",
        "    app.run(debug=True, port=5000)"
      ]
    }
  ],
  "metadata": {
    "colab": {
      "provenance": []
    },
    "kernelspec": {
      "display_name": "breast-cancer",
      "language": "python",
      "name": "python3"
    },
    "language_info": {
      "codemirror_mode": {
        "name": "ipython",
        "version": 3
      },
      "file_extension": ".py",
      "mimetype": "text/x-python",
      "name": "python",
      "nbconvert_exporter": "python",
      "pygments_lexer": "ipython3",
      "version": "3.12.1"
    }
  },
  "nbformat": 4,
  "nbformat_minor": 5
}
